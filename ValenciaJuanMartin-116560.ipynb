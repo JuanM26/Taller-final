{
 "cells": [
  {
   "cell_type": "markdown",
   "metadata": {},
   "source": [
    "#  TALLER 1"
   ]
  },
  {
   "cell_type": "markdown",
   "metadata": {},
   "source": [
    "# Decisiones y Ciclos"
   ]
  },
  {
   "cell_type": "markdown",
   "metadata": {},
   "source": [
    "Ejercicio 1:\n",
    "Sin utilizar el comando abs, escribir un programa que calcule e imprima el valor absoluto de cualquier número (sea entero o decimal)."
   ]
  },
  {
   "cell_type": "code",
   "execution_count": null,
   "metadata": {},
   "outputs": [],
   "source": [
    "x =float(input (\"Inserte un numero: \"))\n",
    "if x < 0 :\n",
    "    x *= -1 #Se multiplica para volverlo positivo\n",
    "    print (\"El valor absoluto del numero es:\", x)#Se imprime el valor positivo\n",
    "    \n",
    "else: \n",
    "    print (\"El valor absoluto del numero es:\", x)#Se imprime el valor absoluto"
   ]
  },
  {
   "cell_type": "markdown",
   "metadata": {},
   "source": [
    "Ejercicio 2: \n",
    "Leer un número entero y escribirlo en reversa. Por ejemplo, 461975 será 579164. No utilizar comandos de ordenamiento."
   ]
  },
  {
   "cell_type": "code",
   "execution_count": null,
   "metadata": {},
   "outputs": [],
   "source": [
    "x= int(input(\"Inserte un número: \"))\n",
    "\n",
    "while x !=0:\n",
    "    Ud=x-int(x/10)*10 #Calculo del ultimo digito, usando la aritmetica entera \n",
    "    x=int(x/10)#El numero se va actualizando\n",
    "    print (Ud, end=\"\") #Se imprime el valor al revés"
   ]
  },
  {
   "cell_type": "markdown",
   "metadata": {},
   "source": [
    "Ejercicio 3: Leer un número entero de 3 dígitos y determinar si contiene el dígito 8."
   ]
  },
  {
   "cell_type": "code",
   "execution_count": null,
   "metadata": {},
   "outputs": [],
   "source": [
    "n=input(\"Ingrese un número de 3 digitos: \")\n",
    "if ord(n[0])==56:#Evalúo en la primera posicion si contiene el 8\n",
    "    print(\"El número ingresado contiene el 8\")\n",
    "elif ord(n[1])==56:#Evalúo en la segunda posicion si contiene el 8\n",
    "    print(\"El número ingresado contiene el 8\")\n",
    "elif ord(n[2])==56:#Evaluo en la tercera posicion si contiene el 8\n",
    "    print(\"El número ingresado contiene el 8\")\n",
    "elif ord(n[0])!=56 and ord(n[1])!=56 and ord(n[2])!=56:#Si no contiene el 8 en ninguna posicion\n",
    "    print (\"El número ingresado NO contiene el 8\")"
   ]
  },
  {
   "cell_type": "markdown",
   "metadata": {},
   "source": [
    "Ejercicio 4: Leer un número entero positivo y determinar la suma de sus dígitos pares. Por ejemplo, en el número 124, los dígitos pares son el 2 y el 4 y su suma vale 6."
   ]
  },
  {
   "cell_type": "code",
   "execution_count": null,
   "metadata": {},
   "outputs": [],
   "source": [
    "p=[]\n",
    "n=input(\"Ingrese el número: \")\n",
    "\n",
    "\n",
    "for i in range(0,len(n)): #Rango hasta la dimension del numero ingresado\n",
    "    if int(n[i])%2==0: #Evaluar en cada punto si el numero%2==0\n",
    "       p.append(n[i])#Agregar el numero que esta en i\n",
    "    else:\n",
    "        p=p\n",
    "print(\"Los números pares ingresados son: \",p)\n",
    "\n",
    "print(\"La suma de los números pares es: \",eval('+'.join(p)))#Suma de los elementos"
   ]
  },
  {
   "cell_type": "markdown",
   "metadata": {},
   "source": [
    "Ejercicio 5: Leer un número entero y determinar el número de cincos que están consecutivos en un número. Por ejemplo, en 5512355551 hay 6 cincos consecutivos. Ahora, en 234555234512 solo hay 3 cincos consecutivos."
   ]
  },
  {
   "cell_type": "code",
   "execution_count": null,
   "metadata": {},
   "outputs": [],
   "source": [
    "n=input(\"Ingrese un número: \")\n",
    "repetidos=[]\n",
    "for i in range(0,len(n)): \n",
    "    if n[i]==n[i-1] or n[i]==n[i+1]: #Evaluacion de posicion anterior y siguiente\n",
    "        x=ord(n[i])\n",
    "        if x==53: #ord(\"53\") es el del 5\n",
    "            repetidos.append(n[i]) #Se agrega el numero\n",
    "        else:\n",
    "            repetidos=repetidos #Se mantiene la lista igual\n",
    "\n",
    "print(\"La cantidad de cincos que está consecutivos es: \",len(repetidos))"
   ]
  },
  {
   "cell_type": "markdown",
   "metadata": {},
   "source": [
    "Ejercicio 6: Leer un número entero y determinar si la suma de sus dígitos es un número de Fibonacci."
   ]
  },
  {
   "cell_type": "code",
   "execution_count": null,
   "metadata": {},
   "outputs": [],
   "source": [
    "numero=int(input(\"Ingrese un número: \"))  \n",
    "numero = str(numero)\n",
    "suma = 0\n",
    "fib=[]#lista de fibonacci\n",
    "a,b=1,1\n",
    "for i in numero:\n",
    "    suma += int(i)#Se suman los digitos que lo componen\n",
    "print(\"La suma de los digitos es: \",suma)\n",
    "\n",
    "while a<suma:#Serie de Fibonacci\n",
    "    print(a, end=\" \")\n",
    "    a,b = b, a+b\n",
    "    fib.append(a)\n",
    "print(fib)\n",
    "\n",
    "if suma in fib:#Si el numero pertenece a la serie deFibonacci\n",
    "    print(\"El número se encuentra en la serie de Fibonacci\")\n",
    "else:\n",
    "    print(\"El número NO se encuentra en la serie de Fibonacci\")"
   ]
  },
  {
   "cell_type": "markdown",
   "metadata": {},
   "source": [
    "Ejercicio 7: Leer un número entero positivo y determine si existen en el número dígitos repetidos. Reporte cuales son los dígitos repetidos."
   ]
  },
  {
   "cell_type": "code",
   "execution_count": null,
   "metadata": {},
   "outputs": [],
   "source": [
    "n=input(\"Ingrese el número: \")\n",
    "n0=[]#Lista para 0\n",
    "n1=[]#Lista para 1\n",
    "n2=[]#Lista para 2\n",
    "n3=[]#Lista para 3\n",
    "n4=[]#Lista para 4\n",
    "n5=[]#Lista para 5\n",
    "n6=[]#Lista para 6\n",
    "n7=[]#Lista para 7\n",
    "n8=[]#Lista para 8\n",
    "n9=[]#Lista para 9\n",
    "rep=[]#Lista para repetidos\n",
    "\n",
    "for i in range(0, len(n)): #Itera en cada posicion y añade el numero a la lista\n",
    "    if ord(n[i])==48:       #correspondiente\n",
    "        n0.append(n[i])\n",
    "        if len(n0)==2:\n",
    "            rep.append(0)\n",
    "    elif ord(n[i])==49:\n",
    "        n1.append(n[i])\n",
    "        if len(n1)==2:\n",
    "            rep.append(1)\n",
    "    elif ord(n[i])==50:\n",
    "        n2.append(n[i])\n",
    "        if len(n2)==2:\n",
    "            rep.append(2)\n",
    "    elif ord(n[i])==51:\n",
    "        n3.append(n[i])\n",
    "        if len(n3)==2:\n",
    "            rep.append(3)\n",
    "    elif ord(n[i])==52:\n",
    "        n4.append(n[i])\n",
    "        if len(n4)==2:\n",
    "            rep.append(4)\n",
    "    elif ord(n[i])==53:\n",
    "        n5.append(n[i])\n",
    "        if len(n5)==2:\n",
    "            rep.append(5)\n",
    "    elif ord(n[i])==54:\n",
    "        n6.append(n[i])\n",
    "        if len(n6)==2:\n",
    "            rep.append(6)\n",
    "    elif ord(n[i])==55:\n",
    "        n7.append(n[i])\n",
    "        if len(n7)==2:\n",
    "            rep.append(7)\n",
    "    elif ord(n[i])==56:\n",
    "        n8.append(n[i])\n",
    "        if len(n8)==2:\n",
    "            rep.append(8)\n",
    "    elif ord(n[i])==57:\n",
    "        n9.append(n[i])  \n",
    "        if len(n9)==2:\n",
    "            rep.append(9)\n",
    "\n",
    "if len(rep)>0: #Si la longitud de repetidos es mayor a 0\n",
    "    print(\"Existen digitos repetidos\")\n",
    "    print(\"Los digitos repetidos son: \",rep)#Se imprimen los digitos repetidos\n",
    "elif len(rep)==0: #No existen digitos repetidos\n",
    "    print(\"No existen digitos repetidos\")"
   ]
  },
  {
   "cell_type": "markdown",
   "metadata": {},
   "source": []
  },
  {
   "cell_type": "markdown",
   "metadata": {},
   "source": [
    "Ejercicio 8:\n",
    "Iterar a través de los primeros cien enteros positivos, buscando los múltiplosde 3 e imprimiendo y almacenándolos en una lista hasta encontrar los primeros 15 de ellos. Una vez encontrados, continuar iterando en busca de los múltiplos\n",
    "de 4 y almacenarlos en otra lista."
   ]
  },
  {
   "cell_type": "code",
   "execution_count": null,
   "metadata": {},
   "outputs": [],
   "source": [
    "lista_multi3=[]\n",
    "lista_multi4=[]\n",
    "contador= 1\n",
    "for i in range(1,101):#Rango en el que se debe iterar para que incluya el 100\n",
    "    if i%3 == 0 and contador<=15: #Condiciones paralos primeros 15 multiplos de 3\n",
    "        contador += 1\n",
    "        lista_multi3.append(i)#se añade a la lista\n",
    "        s=i \n",
    "print(lista_multi3,\"Son multiplos de 3\")\n",
    "\n",
    "for a in range(s,101):# s es el ultimo valor de la iteracion anterior\n",
    "       if a%4 ==0:#residuo entre 4 debe ser 0\n",
    "           lista_multi4.append(a)#se añade a la lista\n",
    "print(lista_multi4,\"Son multiplos de 4\")"
   ]
  },
  {
   "cell_type": "markdown",
   "metadata": {},
   "source": [
    "Ejercicio 9: Hacer un programa que lea las coordenadas (x1,y1,r1) y (x2,y2,r2) que corresponden al centro y al radio de dos círculos. Lea un punto de coordenadas (a,b). Determina si (a,b) está contenido: a) dentro del círculo 1; b) dentro del círculo 2; c) dentro de ambos círculos; d) fuera de ambos círculos. Recordemos que el círculo es el lugar geométrico de los puntos del plano cuya distancia a otro punto fijo, llamado centro, es menor o igual que una cantidad constante, llamada radio."
   ]
  },
  {
   "cell_type": "code",
   "execution_count": null,
   "metadata": {},
   "outputs": [],
   "source": [
    "x1=int(input(\"Ingrese la coordenada de x1: \"))\n",
    "y1=int(input(\"Ingrese la coordenada de y1: \"))\n",
    "r1=int(input(\"Ingrese el radio 1: \"))\n",
    "\n",
    "x2=int(input(\"Ingrese la coordenada de x2: \"))\n",
    "y2=int(input(\"Ingrese la coordenada de y2: \"))\n",
    "r2=int(input(\"Ingrese el radio 2: \"))\n",
    "\n",
    "c_a=int(input(\"Ingrese la coordenada a: \"))#coordenada en x a evaluar\n",
    "c_b=int(input(\"Ingrese la coordenada b: \"))#coordenada en y a evaluar\n",
    "\n",
    "r1_x=x1-r1#margen a la izquierda del x\n",
    "r1_x2=x1+r1#margen a la derecha del x\n",
    "r1_y=y1-r1#margen abajo de y\n",
    "r1_y2=y1+r1#margen arriba de y\n",
    "r2_x=x2-r2#margen a la izquierda de x\n",
    "r2_x2=x2+r2#margen a la derecha de x\n",
    "r2_y=y2-r2#margen abajo de y\n",
    "r2_y2=y2+r2#margen arriba de y\n",
    "\n",
    "if c_a and c_b in range(r1_x,r1_x2+1) and c_a and c_b in range(r1_y,r1_y2+1) \\\n",
    "and c_a and c_b in range(r2_x,r2_x2+1) and c_a and c_b in range(r2_y,r2_y2+1):#Condiciones para ambos circulos\n",
    "    print(\"La coordenada ingresada se encuentra en ambos circulos\")\n",
    "\n",
    "elif c_a and c_b in range(r1_x,r1_x2+1) and c_a and c_b in range(r1_y,r1_y2+1):#condiciones para primer circulo\n",
    "    print(\"La coordenada ingresada se encuentra en el circulo 1\")\n",
    "\n",
    "elif c_a and c_b in range(r2_x,r2_x2+1) and c_a and c_b in range(r2_y,r2_y2+1):#condiciones para segundo circulo\n",
    "    print(\"La coordenada ingresada se encuentra en el circulo 2\")"
   ]
  },
  {
   "cell_type": "markdown",
   "metadata": {},
   "source": [
    "# Cadenas"
   ]
  },
  {
   "cell_type": "markdown",
   "metadata": {},
   "source": [
    "Ejercicio 10: Sin utilizar el método .upper() para cadenas, escribir un programa que lea una cadena de texto y la imprima en mayúscula. Tenga en cuenta que el programa debe aceptar las letras con tilde, la ñ y la ü."
   ]
  },
  {
   "cell_type": "code",
   "execution_count": 1,
   "metadata": {},
   "outputs": [
    {
     "name": "stdout",
     "output_type": "stream",
     "text": [
      "Inserte su texto: el niño jugaba\n",
      "EL NIÑO JUGABA"
     ]
    }
   ],
   "source": [
    "a= input(\"Inserte su texto: \")\n",
    "\n",
    "for i in range (0, len(a)):#rango en la longitud de la palabra ingresada\n",
    "    if ord(a[i])>=97 and ord(a[i])<=122 or ord(a[i])>=225 and ord(a[i])<=252:#rango de letras\n",
    "        may=chr(ord(a[i])-32)#Convierte a letras mayusculas\n",
    "    \n",
    "        print (may, end=\"\")\n",
    "    \n",
    "    if ord(a[i])>=65 and ord(a[i])<=90 or ord(a[i])>=193 and ord(a[i])<=218:#rango letras\n",
    "        may=chr(ord(a[i]))#las deja igual porque son mayusculas\n",
    "        \n",
    "        print(may, end=\"\")"
   ]
  },
  {
   "cell_type": "markdown",
   "metadata": {},
   "source": [
    "Ejercicio 11: Escribir un programa que reciba una cadena de texto y reporte:\n",
    "a) cuántas letras vocales en mayúscula se entraron;\n",
    "b) cuántas letras con tilde se entraron (minúsculas y mayúsculas); c) cuántos dígitos se entraron,\n",
    "d) cuántos espacios se entraron;\n",
    "e) cuántas palabras reservadas se entraron.\n",
    "Utilizar para ello los métodos de cadenas especializados como .isupper(), .isdigit(), etc. y la palabra reservada in."
   ]
  },
  {
   "cell_type": "code",
   "execution_count": null,
   "metadata": {},
   "outputs": [],
   "source": [
    "ConVmay=0\n",
    "ConT=0\n",
    "ConDig=0\n",
    "Con_=0\n",
    "ConPR=0\n",
    "p_reservadas=[\"False\", \"None\",\"and\", \"as\",\"assert\",\"break\",\"class\",\"continue\",\\\n",
    "              \"def\",\"del\",\"elif\",\"else\",\"except\",\"finally\",\"for\",\"from\",\"global\",\\\n",
    "              \"if\",\"import\",\"in\",\"is\",\"lambda\",\"nonlocal\",\"not\",\"or\",\"pass\",\"raise\",\\\n",
    "              \"return\",\"try\",\"while\",\"with\",\"yield\"]\n",
    "a= input(\"Inserte su texto: \")\n",
    "\n",
    "for i in range (0, len(a)):#rango de longitud de texto\n",
    "    if a[i].isupper()==True: #Si es mayuscula\n",
    "        if ord(a[i])==65 or ord(a[i])==69 or ord(a[i])==73 or ord(a[i])==79\\\n",
    "        or ord(a[i])==85: #Si es vocal\n",
    "            \n",
    "            ConVmay+=1#suma a vocales mayusculas\n",
    "\n",
    "    if ord(a[i])==225 or ord(a[i])==233 or ord(a[i])==237 or ord(a[i])==243\\\n",
    "    or ord(a[i])==250 or ord(a[i])==193 or ord(a[i])==201 or ord(a[i])==205\\\n",
    "    or ord(a[i])==211 or ord(a[i])==218:#letras con tilde\n",
    "        \n",
    "        ConT+=1#suma a letras con tilde\n",
    "    \n",
    "    if a[i].isdigit()==True:#si es digito\n",
    "        ConDig+=1#suma a digitos ingresados\n",
    "    \n",
    "    if ord(a[i])==32:#si hay espacios\n",
    "        Con_+=1#suma a espacios\n",
    "    \n",
    "d=a.split()\n",
    "\n",
    "for i in range (len(d)):\n",
    "    if d[i] in p_reservadas:\n",
    "        ConPR+=1\n",
    "\n",
    "print(\"Vocales ingresadas en mayúscula= \",ConVmay)\n",
    "print(\"Letras ingresadas con tilde= \",ConT)\n",
    "print(\"Digitos ingresados= \",ConDig)\n",
    "print(\"Espacios ingresados= \",Con_)\n",
    "print(\"Palabras reservadas ingresadas= \",ConPR)"
   ]
  },
  {
   "cell_type": "markdown",
   "metadata": {},
   "source": [
    "Ejercicio 12: Hacer un programa que lea dos palabras (podrían estar en mayúscula o minúscula) y determine cual está primero en el diccionario. El programa debe soportar letras con tilde, la ü y la ñ."
   ]
  },
  {
   "cell_type": "code",
   "execution_count": null,
   "metadata": {},
   "outputs": [],
   "source": [
    "p1=input(\"Inserte la primera palabra: \")\n",
    "p2=input(\"Inserte la segunda palabra: \")\n",
    "s=0\n",
    "if p1==p2:\n",
    "    print(\"Las palabras son iguales\")\n",
    "x=len(p1)\n",
    "y=len(p2)\n",
    "while s==0: #Interruptor para salir del while\n",
    "    if x<y:\n",
    "        for i in range(0, len(p1)): #rango longitud de palabra\n",
    "                d=ord(p1[i])\n",
    "                f=ord(p2[i])\n",
    "                if ord(p1[0])-ord(p2[0])==32: #la primera letra seria minuscula\n",
    "                    s+=1\n",
    "                elif ord(p1[0])-ord(p2[0])==-32: #la primera letra seria mayuscula\n",
    "                    s-=1\n",
    "                elif d<f: #si ord(p1)<ord(p2) significa que la primera palabra aparece primero\n",
    "                    s+=1 #+1 para salir del ciclo\n",
    "                elif d>f:\n",
    "                    s-=1 #-1 para salir del ciclo\n",
    "                \n",
    "        else:#Si el rango de la palabra es menor que la segunda, la primera aparece primero\n",
    "            s+=1\n",
    "    elif x>y:\n",
    "        for i in range(0, len(p2)):#rango longitud palabra\n",
    "                d=ord(p1[i])\n",
    "                f=ord(p2[i])\n",
    "                if ord(p1[0])-ord(p2[0])==32: #la primera letra seria minuscula\n",
    "                    s+=1\n",
    "                elif ord(p1[0])-ord(p2[0])==-32: #la primera letra seria mayuscula\n",
    "                    s-=1\n",
    "                elif d<f:#si ord(p1)<ord(p2) significa que la primera palabra aparece primero\n",
    "                    s+=1 #+1 para salir del ciclo\n",
    "                elif d>f:\n",
    "                    s-=1 \n",
    "        else: #Si el rango de la segunda palabra es menor que la segunda, la segunda aparece primero\n",
    "            s-=1\n",
    "    elif x==y:\n",
    "        for i in range(0, len(p2)):#rango longitud palabra\n",
    "                d=ord(p1[i])\n",
    "                f=ord(p2[i])\n",
    "                if ord(p1[0])-ord(p2[0])==32: #la primera letra seria minuscula\n",
    "                    s+=1\n",
    "                elif ord(p1[0])-ord(p2[0])==-32: #la primera letra seria mayuscula\n",
    "                    s-=1\n",
    "                elif d<f:#si ord(p1)<ord(p2) significa que la primera palabra aparece primero\n",
    "                    s+=1 #+1 para salir del ciclo\n",
    "                elif d>f:\n",
    "                    s-=1 \n",
    "if s>0:\n",
    "    print(\"La primera palabra aparece primero en el diccionario\")\n",
    "elif s<0:\n",
    "    print(\"La segunda palabra aparece primero en el diccionario\")"
   ]
  },
  {
   "cell_type": "markdown",
   "metadata": {},
   "source": [
    "Ejercicio 13: Escribir un programa que lea una cadena de texto y la imprima como un triángulo. Por ejemplo, si la cadena entrada es: \"Es una locura odiar a todas las rosas porque una te pinchó: renunciar a todos tus sueños porque uno de ellos no se realizó - El Principito\", el programa debe imprimir:\n",
    "         E\n",
    "        sun\n",
    "       alocu\n",
    "      raodiar\n",
    "     atodaslas\n",
    "    rosasporque\n",
    "   unatepinchó:r\n",
    "enunciaratodost ussueñosporqueuno deellosnoserealizó-\n",
    "   ElPrincipito\n",
    "Observe que la última cadena queda centrada con respecto a la base del triángulo."
   ]
  },
  {
   "cell_type": "code",
   "execution_count": null,
   "metadata": {},
   "outputs": [],
   "source": [
    "#se importan la libreria math\n",
    "import math\n",
    "\n",
    "def leer_cadena(): #se define la funcion para leer la cadena\n",
    "    while True:\n",
    "        try:\n",
    "            cadena= (input(\"Ingrese el texto: \"))\n",
    "            if type(cadena) != str:\n",
    "                raise ValueError\n",
    "            break\n",
    "        except:\n",
    "            print(\"El texto ingresad no es permitido\")\n",
    "    return(cadena)\n",
    "\n",
    "#Código\n",
    "cad= leer_cadena()\n",
    "cad = cad.replace(\" \",\"\")#eliminar espacios de la cadena\n",
    "long= len(cad)\n",
    "filas= (len(cad)**(1/2))#sacar la cantidad de filas,obedece a una funcion cuadratica \n",
    "if filas - filas//1 !=0:\n",
    "    fila_mayor= math.ceil(filas -1)\n",
    "else:\n",
    "    fila_mayor= math.ceil(filas)\n",
    "filas= math.ceil(filas)\n",
    "\n",
    "for i in range (0,filas+1):\n",
    "    print((cad[(i**2):((i+1)**2)]).center(fila_mayor*2))#se imprime centrando el arreglo\\\n",
    "    #con la fila que contiene mas elementos\n",
    "    "
   ]
  },
  {
   "cell_type": "markdown",
   "metadata": {},
   "source": [
    "Ejercicio 14: Leer una cadena de texto y organice alfabéticamente cada una de las letras que la componen, repitiendo cada una tantas veces como se encuentra. Por ejemplo, la cadena ‘tarea importante’ será ‘aaaeeimnoprrttt’. (Note que no se incluyen los espacios)."
   ]
  },
  {
   "cell_type": "code",
   "execution_count": null,
   "metadata": {},
   "outputs": [],
   "source": [
    "import sys\n",
    "cadena = input(\"Ingrese el texto: \")\n",
    "convert_to_list = list(cadena) #convertimos la cadena a lista\n",
    "convert_to_list.sort() #ordenamos la lista alfabeticamente\n",
    "print (\"Las letras que componen el texto, ordenadas son: \",cadena)\n",
    "for i in convert_to_list:\n",
    "    sys.stdout.write(i)   #imprimimos la lista ordenada\n",
    "sys.stdout.write('\\n')"
   ]
  },
  {
   "cell_type": "markdown",
   "metadata": {},
   "source": [
    "# Listas"
   ]
  },
  {
   "cell_type": "markdown",
   "metadata": {},
   "source": [
    "Ejercicio 15: Leer una lista de números enteros y enumerar cuantos elementos se repiten exactamente dos veces. Utilizar para tal fin el método count() de listas."
   ]
  },
  {
   "cell_type": "code",
   "execution_count": null,
   "metadata": {},
   "outputs": [],
   "source": [
    "lista1= []\n",
    "repetidos=[]\n",
    "len1=int(input(\"Inserte la dimension de la lista: \"))\n",
    "\n",
    "if len1 <= 0:\n",
    "    print(\"¿La lista no tiene dimension?\")\n",
    "    \n",
    "else:\n",
    "    for i in range(len1):\n",
    "        lista1.append(input(f\"Digite el número {i+1}: \"))#Añade cada valor de la lista\n",
    "    print(\"La lista es: \",lista1)#Se imprime la lista\n",
    "\n",
    "for i in range(len(lista1)):\n",
    "    x=lista1.count((lista1[i]))#Variable que cuenta cuantos elementos hay en la lista\n",
    "    if x==2:#Si hay exactamente 2 continúa\n",
    "        repetidos.append(lista1[i])\n",
    "print(\"Los números que se repiten exactamente 2 veces en la lista son: \",repetidos)"
   ]
  },
  {
   "cell_type": "markdown",
   "metadata": {},
   "source": [
    "Ejercicio 16: Leer una lista de números ya ordenados de forma ascendente y verificar que dicha lista está ordenada. Luego, leer un número e insertarlo en la lista en la posición que le corresponde a dicho número."
   ]
  },
  {
   "cell_type": "code",
   "execution_count": null,
   "metadata": {},
   "outputs": [],
   "source": [
    "lista1=[]\n",
    "n=int(input(\"¿Cuantos datos tendrá la lista? \"))\n",
    "for i in range(n):#rango longitud dada de la lista\n",
    "    datos=int(input(\"Dato: \"))\n",
    "    lista1.append(datos)#se añaden los datos ingresados\n",
    "    if len(lista1)==n:\n",
    "        print(\"La lista ingresada es: \",lista1)\n",
    "    \n",
    "x=lista1.copy() #variable para comparar la lista\n",
    "x.sort()#se ordena la lista\n",
    "\n",
    "if lista1!=x:\n",
    "    print(\"La lista ingresada no se encuentra ordenada, reinicie\")#si no se encuentra ordenada\n",
    "    \n",
    "else:\n",
    "    print(\"La lista se encuentra ordenada\")\n",
    "    n_n=int(input(\"Ingrese el número que quiere añadir a la lista: \"))\n",
    "    lista1.append(n_n)#se añade el valor a la lista \n",
    "    \n",
    "    lista1.sort() #Se ordena la lista\n",
    "    print(\"La lista con el valor ingresado es: \",lista1)"
   ]
  },
  {
   "cell_type": "markdown",
   "metadata": {},
   "source": [
    "Ejercicio 17: Leer una lista y determinar cuál es el segundo elemento más grande de dicha lista. No utilice ningún tipo de algoritmo de ordenamiento para realizar este ejercicio."
   ]
  },
  {
   "cell_type": "code",
   "execution_count": null,
   "metadata": {},
   "outputs": [],
   "source": [
    "lista1= []\n",
    "\n",
    "len1=int(input(\"Inserte la dimension de la lista: \")) #Ingresamos la dimension\n",
    "\n",
    "if len1 <= 0:\n",
    "    print(\"¿La lista no tiene dimension?\")\n",
    "    \n",
    "else:\n",
    "    for i in range(len1):\n",
    "        lista1.append(input(f\"Digite el número {i+1}: \"))#Añade cada valor de la lista\n",
    "    print(\"La lista es: \",lista1)#Se imprime la lista\n",
    " \n",
    "m=max(lista1)#Se encuentra el valor mas grande de la lista\n",
    "lista1.remove(m)#Se remueve el valor mas grande de la lista\n",
    "n=max(lista1)#Se almacena en otra variable el nuevo valor mas grande\n",
    "print(\"El segundo elemento mas grande de la lista es: \",n)"
   ]
  },
  {
   "cell_type": "markdown",
   "metadata": {},
   "source": [
    "Ejercicio 18: Leer una matriz cuadrada A, obtener su matriz triangular superior asociada U y determinar qué fila de U contiene la mayor cantidad de unos."
   ]
  },
  {
   "cell_type": "code",
   "execution_count": null,
   "metadata": {},
   "outputs": [],
   "source": []
  },
  {
   "cell_type": "markdown",
   "metadata": {},
   "source": [
    "Ejercicio 19: Leer una lista e identifique la sublista más larga dentro de dicha lista que se encuentra ordenada ascendentemente. Por ejemplo, en la lista [5, 6, 5, 1, 2, 6, 9, 2, 4, 1] la mayor sublista ordenada es la [1, 2, 6, 9]."
   ]
  },
  {
   "cell_type": "code",
   "execution_count": null,
   "metadata": {},
   "outputs": [],
   "source": []
  },
  {
   "cell_type": "markdown",
   "metadata": {},
   "source": [
    "Ejercicio 20:Hacer un programa que lea una matriz y la rote 90 grados en sentido antihorario. Imprimir la matriz resultante. Por ejemplo, dada la matriz\n",
    "62 42 70 66 10 3510 49294 33 37 5 100 19 79 44 72 53 91\n",
    "la matriz solicitada es la:\n",
    "10 94 19 91 66 92 100 53 70 4 5 72 42 10 37 44 62 35 33 79\n",
    "Repita el mismo ejercicio utilizando el módulo numpy."
   ]
  },
  {
   "cell_type": "code",
   "execution_count": null,
   "metadata": {},
   "outputs": [],
   "source": [
    "M=[] #Matriz original\n",
    "r=[] #Matriz rotada\n",
    "\n",
    "\n",
    "filas=int(input(\"Ingrese el número de filas de la matriz: \")) #Filas matriz\n",
    "columnas=int(input(\"Ingrese el número de columnas de la matriz: \")) #Columnas matriz\n",
    "\n",
    "for i in range(filas): #Se iteran las filas\n",
    "      M.append([]) \n",
    "      for j in range (columnas): #Se iteran las columnas ingresando el valor\n",
    "         M[i].append(int(input(f'escriba el digito {j+1} de la fila {i+1}: ')))\n",
    "\n",
    "\n",
    "for i in range(columnas): #Se iteran las columnas\n",
    "    r.append([]) \n",
    "    for j in range (filas):    #Se iteran las filas\n",
    "          \n",
    "        r[i].append(M[j][columnas-1-i])#se selecciona la posicion en la matriz original\n",
    "                                        #Se tiene en cuenta la relacion con la matriz antihoraria\n",
    "                                        \n",
    "print()\n",
    "print(\"la matriz original es la siguiente: \")                                 \n",
    "for i in range(filas):           \n",
    "    print(M[i], end=' ') #Se imprime el resultado\n",
    "    print()  #Para ser mas clara\n",
    "\n",
    "print()\n",
    "print(\"La matriz rotada 90 grados en sentido antihorario es la siguiente: \")       \n",
    "for i in range(columnas):           \n",
    "    print(r[i], end=' ') #Se imprimen los resultados\n",
    "    print()  #Para ser mas clara\n"
   ]
  }
 ],
 "metadata": {
  "kernelspec": {
   "display_name": "Python 3",
   "language": "python",
   "name": "python3"
  },
  "language_info": {
   "codemirror_mode": {
    "name": "ipython",
    "version": 3
   },
   "file_extension": ".py",
   "mimetype": "text/x-python",
   "name": "python",
   "nbconvert_exporter": "python",
   "pygments_lexer": "ipython3",
   "version": "3.7.3"
  }
 },
 "nbformat": 4,
 "nbformat_minor": 2
}
